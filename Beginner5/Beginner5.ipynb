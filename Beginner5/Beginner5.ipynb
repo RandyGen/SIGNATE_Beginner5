{
 "cells": [
  {
   "cell_type": "markdown",
   "metadata": {},
   "source": [
    "- csvのデータ一覧\n",
    "id 顧客ID（インデックスとして使用）  \n",
    "loan_amnt 借入総額  \n",
    "term 返済期間  \n",
    "interest_rate 金利  \n",
    "grade グレード  \n",
    "employment_length 勤続年数  \n",
    "purpose 借入の目的  \n",
    "credit_score 信用スコア  \n",
    "application_type 借入時の申請方式  "
   ]
  },
  {
   "cell_type": "code",
   "execution_count": 1,
   "metadata": {},
   "outputs": [],
   "source": [
    "import pandas as pd\n",
    "import matplotlib.pyplot as plt\n",
    "import numpy as np\n",
    "from sklearn.metrics import f1_score\n",
    "from sklearn.preprocessing import LabelEncoder\n",
    "\n",
    "# pip install は !pip... で可"
   ]
  },
  {
   "cell_type": "code",
   "execution_count": 3,
   "metadata": {},
   "outputs": [],
   "source": [
    "train = pd.read_csv(\"train.csv\")\n",
    "test = pd.read_csv(\"test.csv\")"
   ]
  },
  {
   "cell_type": "code",
   "execution_count": 4,
   "metadata": {},
   "outputs": [],
   "source": [
    "train.replace({'Individual': 0, 'Joint App': 1}, inplace=True)\n",
    "train.replace({'FullyPaid': 0, 'ChargedOff': 1}, inplace=True)\n",
    "train = pd.get_dummies(train, prefix='', prefix_sep='', columns=['term', 'grade', 'purpose'])"
   ]
  },
  {
   "cell_type": "code",
   "execution_count": 5,
   "metadata": {},
   "outputs": [],
   "source": [
    "test.replace({'Individual': 0, 'Joint App': 1}, inplace=True)\n",
    "test = pd.get_dummies(test, prefix='', prefix_sep='', columns=['term', 'grade', 'purpose'])"
   ]
  },
  {
   "cell_type": "code",
   "execution_count": 6,
   "metadata": {},
   "outputs": [],
   "source": [
    "train['moving'] = 0\n",
    "test['F3'] = 0\n",
    "test['F5'] = 0"
   ]
  },
  {
   "cell_type": "code",
   "execution_count": 7,
   "metadata": {},
   "outputs": [],
   "source": [
    "from sklearn.model_selection import train_test_split\n",
    "\n",
    "X_train, X_valid, y_train, y_valid = train_test_split(train, train['loan_status'], test_size=0.3, random_state=0, stratify=train['loan_status'])"
   ]
  },
  {
   "cell_type": "code",
   "execution_count": 8,
   "metadata": {},
   "outputs": [
    {
     "name": "stderr",
     "output_type": "stream",
     "text": [
      "C:\\Users\\randy\\Anaconda3\\lib\\site-packages\\pandas\\core\\frame.py:3940: SettingWithCopyWarning: \n",
      "A value is trying to be set on a copy of a slice from a DataFrame\n",
      "\n",
      "See the caveats in the documentation: http://pandas.pydata.org/pandas-docs/stable/indexing.html#indexing-view-versus-copy\n",
      "  errors=errors)\n"
     ]
    }
   ],
   "source": [
    "X_train.drop(columns=['loan_amnt', 'employment_length', 'credit_score', 'loan_status'], inplace=True)\n",
    "X_valid.drop(columns=['loan_amnt', 'employment_length', 'credit_score', 'loan_status'], inplace=True)\n",
    "y_train.drop(columns=['loan_amnt', 'employment_length', 'credit_score'], inplace=True)\n",
    "y_valid.drop(columns=['loan_amnt', 'employment_length', 'credit_score'], inplace=True)\n",
    "categorical_feature = ['interest_rate', 'application_type', '3 years', '5 years', 'A1', 'A2', 'A3', 'A4', 'A5', 'B1', 'B2', 'B3', 'B4', 'B5', 'C1', 'C2', 'C3', 'C4', 'C5', 'D1', 'D2', 'D3', 'D4', 'D5', 'E1', 'E2', 'E3', 'E4', 'E5', 'F3', 'F5', 'car', 'credit_card', 'debt_consolidation', 'home_improvement', 'house', 'major_purchase', 'medical', 'other', 'small_business', 'moving']"
   ]
  },
  {
   "cell_type": "code",
   "execution_count": 9,
   "metadata": {},
   "outputs": [],
   "source": [
    "test.drop(columns=['loan_amnt', 'employment_length', 'credit_score'], inplace=True)"
   ]
  },
  {
   "cell_type": "code",
   "execution_count": 10,
   "metadata": {},
   "outputs": [
    {
     "name": "stderr",
     "output_type": "stream",
     "text": [
      "C:\\Users\\randy\\Anaconda3\\lib\\site-packages\\lightgbm\\basic.py:1551: UserWarning: Using categorical_feature in Dataset.\n",
      "  warnings.warn('Using categorical_feature in Dataset.')\n"
     ]
    },
    {
     "name": "stdout",
     "output_type": "stream",
     "text": [
      "[LightGBM] [Warning] Find whitespaces in feature_names, replace with underlines\n",
      "[LightGBM] [Info] Number of positive: 29649, number of negative: 139856\n",
      "[LightGBM] [Warning] Auto-choosing col-wise multi-threading, the overhead of testing was 0.031303 seconds.\n",
      "You can set `force_col_wise=true` to remove the overhead.\n",
      "[LightGBM] [Info] Total Bins 379\n",
      "[LightGBM] [Info] Number of data points in the train set: 169505, number of used features: 38\n"
     ]
    },
    {
     "name": "stderr",
     "output_type": "stream",
     "text": [
      "C:\\Users\\randy\\Anaconda3\\lib\\site-packages\\lightgbm\\basic.py:1286: UserWarning: Overriding the parameters from Reference Dataset.\n",
      "  warnings.warn('Overriding the parameters from Reference Dataset.')\n",
      "C:\\Users\\randy\\Anaconda3\\lib\\site-packages\\lightgbm\\basic.py:1098: UserWarning: categorical_column in param dict is overridden.\n",
      "  warnings.warn('{} in param dict is overridden.'.format(cat_alias))\n"
     ]
    },
    {
     "name": "stdout",
     "output_type": "stream",
     "text": [
      "[LightGBM] [Warning] Find whitespaces in feature_names, replace with underlines\n",
      "[LightGBM] [Info] [binary:BoostFromScore]: pavg=0.174915 -> initscore=-1.551185\n",
      "[LightGBM] [Info] Start training from score -1.551185\n",
      "Training until validation scores don't improve for 100 rounds\n",
      "[10]\ttraining's binary_error: 0.1716\tvalid_1's binary_error: 0.171726\n",
      "[20]\ttraining's binary_error: 0.168137\tvalid_1's binary_error: 0.168959\n",
      "[30]\ttraining's binary_error: 0.167641\tvalid_1's binary_error: 0.168766\n",
      "[40]\ttraining's binary_error: 0.167529\tvalid_1's binary_error: 0.168931\n",
      "[50]\ttraining's binary_error: 0.167275\tvalid_1's binary_error: 0.168683\n",
      "[60]\ttraining's binary_error: 0.167181\tvalid_1's binary_error: 0.168697\n",
      "[70]\ttraining's binary_error: 0.166992\tvalid_1's binary_error: 0.168628\n",
      "[80]\ttraining's binary_error: 0.16688\tvalid_1's binary_error: 0.168573\n",
      "[90]\ttraining's binary_error: 0.166815\tvalid_1's binary_error: 0.168697\n",
      "[100]\ttraining's binary_error: 0.166697\tvalid_1's binary_error: 0.168725\n",
      "[110]\ttraining's binary_error: 0.16662\tvalid_1's binary_error: 0.168793\n",
      "[120]\ttraining's binary_error: 0.16655\tvalid_1's binary_error: 0.16889\n",
      "[130]\ttraining's binary_error: 0.166449\tvalid_1's binary_error: 0.168972\n",
      "[140]\ttraining's binary_error: 0.166284\tvalid_1's binary_error: 0.168959\n",
      "[150]\ttraining's binary_error: 0.166237\tvalid_1's binary_error: 0.168972\n",
      "[160]\ttraining's binary_error: 0.166042\tvalid_1's binary_error: 0.168849\n",
      "[170]\ttraining's binary_error: 0.165972\tvalid_1's binary_error: 0.168849\n",
      "Early stopping, best iteration is:\n",
      "[77]\ttraining's binary_error: 0.166904\tvalid_1's binary_error: 0.168532\n"
     ]
    }
   ],
   "source": [
    "import lightgbm as lgb\n",
    "\n",
    "lgb_train = lgb.Dataset(X_train, y_train, categorical_feature=categorical_feature)\n",
    "lgb_eval = lgb.Dataset(X_valid, y_valid, reference=lgb_train, categorical_feature=categorical_feature)\n",
    "\n",
    "param = {\n",
    "    'objective': 'binary',\n",
    "        'metric': 'binary_error'\n",
    "        }\n",
    "\n",
    "model = lgb.train(param, lgb_train, valid_sets=[lgb_train, lgb_eval], verbose_eval=10, num_boost_round=1000, early_stopping_rounds=100)\n",
    "\n",
    "y_pred = model.predict(test, num_iteration=model.best_iteration)"
   ]
  },
  {
   "cell_type": "code",
   "execution_count": 23,
   "metadata": {},
   "outputs": [
    {
     "data": {
      "text/plain": [
       "0.38332446008194254"
      ]
     },
     "execution_count": 23,
     "metadata": {},
     "output_type": "execute_result"
    }
   ],
   "source": [
    "X_pred = model.predict(X_valid, num_iteration=model.best_iteration)\n",
    "X_pred = (X_pred > 0.18325).astype(int)\n",
    "f1_score(y_valid, X_pred)"
   ]
  },
  {
   "cell_type": "code",
   "execution_count": 27,
   "metadata": {},
   "outputs": [
    {
     "data": {
      "text/plain": [
       "0.38332446008194254"
      ]
     },
     "execution_count": 27,
     "metadata": {},
     "output_type": "execute_result"
    }
   ],
   "source": [
    "X_pred = model.predict(X_valid, num_iteration=model.best_iteration)\n",
    "X_pred = (X_pred > 0.183255).astype(int)\n",
    "f1_score(y_valid, X_pred)"
   ]
  },
  {
   "cell_type": "code",
   "execution_count": 34,
   "metadata": {},
   "outputs": [],
   "source": [
    "# train_pred = model.predict(X_train, num_iteration=model.best_iteration)\n",
    "# train_pred = (train_pred > 0.5).astype(int)\n",
    "# f1_score(y_train, train_pred)"
   ]
  },
  {
   "cell_type": "code",
   "execution_count": 28,
   "metadata": {},
   "outputs": [],
   "source": [
    "y_pred = (y_pred > 0.18325).astype(int)\n",
    "Id = test.id.astype(int)\n",
    "my_solution = pd.DataFrame(y_pred, Id, columns=['loan_status'])\n",
    "my_solution.to_csv(\"my_prediction_data.csv\", header=False)"
   ]
  },
  {
   "cell_type": "code",
   "execution_count": 29,
   "metadata": {},
   "outputs": [
    {
     "data": {
      "text/html": [
       "<div>\n",
       "<style scoped>\n",
       "    .dataframe tbody tr th:only-of-type {\n",
       "        vertical-align: middle;\n",
       "    }\n",
       "\n",
       "    .dataframe tbody tr th {\n",
       "        vertical-align: top;\n",
       "    }\n",
       "\n",
       "    .dataframe thead th {\n",
       "        text-align: right;\n",
       "    }\n",
       "</style>\n",
       "<table border=\"1\" class=\"dataframe\">\n",
       "  <thead>\n",
       "    <tr style=\"text-align: right;\">\n",
       "      <th></th>\n",
       "      <th>loan_status</th>\n",
       "    </tr>\n",
       "    <tr>\n",
       "      <th>id</th>\n",
       "      <th></th>\n",
       "    </tr>\n",
       "  </thead>\n",
       "  <tbody>\n",
       "    <tr>\n",
       "      <th>242150</th>\n",
       "      <td>0</td>\n",
       "    </tr>\n",
       "    <tr>\n",
       "      <th>242151</th>\n",
       "      <td>0</td>\n",
       "    </tr>\n",
       "    <tr>\n",
       "      <th>242152</th>\n",
       "      <td>0</td>\n",
       "    </tr>\n",
       "    <tr>\n",
       "      <th>242153</th>\n",
       "      <td>0</td>\n",
       "    </tr>\n",
       "    <tr>\n",
       "      <th>242154</th>\n",
       "      <td>0</td>\n",
       "    </tr>\n",
       "  </tbody>\n",
       "</table>\n",
       "</div>"
      ],
      "text/plain": [
       "        loan_status\n",
       "id                 \n",
       "242150            0\n",
       "242151            0\n",
       "242152            0\n",
       "242153            0\n",
       "242154            0"
      ]
     },
     "execution_count": 29,
     "metadata": {},
     "output_type": "execute_result"
    }
   ],
   "source": [
    "my_solution.head()"
   ]
  },
  {
   "cell_type": "code",
   "execution_count": 30,
   "metadata": {},
   "outputs": [],
   "source": [
    "df = my_solution[my_solution['loan_status'] == 1]"
   ]
  },
  {
   "cell_type": "code",
   "execution_count": 31,
   "metadata": {},
   "outputs": [
    {
     "data": {
      "text/plain": [
       "5908"
      ]
     },
     "execution_count": 31,
     "metadata": {},
     "output_type": "execute_result"
    }
   ],
   "source": [
    "len(df)"
   ]
  },
  {
   "cell_type": "code",
   "execution_count": 16,
   "metadata": {},
   "outputs": [
    {
     "data": {
      "text/plain": [
       "<matplotlib.axes._subplots.AxesSubplot at 0x24952839ef0>"
      ]
     },
     "execution_count": 16,
     "metadata": {},
     "output_type": "execute_result"
    },
    {
     "data": {
      "image/png": "[encoded data removed]",
      "text/plain": [
       "<Figure size 432x288 with 1 Axes>"
      ]
     },
     "metadata": {
      "needs_background": "light"
     },
     "output_type": "display_data"
    }
   ],
   "source": [
    "ax = train.plot(kind='scatter', x='interest_rate', y='loan_amnt', color='DarkBlue', label='loan_status')\n",
    "train.plot(kind='scatter', x='interest_rate', y='loan_amnt', color='DarkGreen', label='loan_status', ax=ax)"
   ]
  },
  {
   "cell_type": "code",
   "execution_count": 25,
   "metadata": {
    "jupyter": {
     "source_hidden": true
    }
   },
   "outputs": [],
   "source": [
    "# 「train」の目的変数と説明変数の値を取得\n",
    "target = train[\"loan_status\"].values\n",
    "features_one = train[[\"loan_amnt\", \"term\", \"interest_rate\", \"employment_length\", 'grade', 'debt_consolidation', 'credit_card', 'medical', \\\n",
    "                          'home_improvement', 'car', 'major_purchase', 'small_business', 'house', 'moving', 'other']].values\n",
    "\n",
    "# 決定木の作成\n",
    "my_tree_one = tree.DecisionTreeClassifier()\n",
    "my_tree_one = my_tree_one.fit(features_one, target) # <- term: 3 year = ValueError\n",
    "\n",
    "# 「test」の説明変数の値を取得\n",
    "test_features = test[[\"loan_amnt\", \"term\", \"interest_rate\", \"employment_length\", 'grade', 'debt_consolidation', 'credit_card', 'medical', \\\n",
    "                          'home_improvement', 'car', 'major_purchase', 'small_business', 'house', 'moving', 'other']].values\n",
    "\n",
    "# 「test」の説明変数を使って「my_tree_one」のモデルで予測\n",
    "my_prediction = my_tree_one.predict(test_features)\n",
    "\n",
    "# PassengerIdを取得\n",
    "Id = test.id.astype(int)\n",
    "# Id.rename(inplace=True)\n",
    "# Id = Id.value\n",
    "\n",
    "# my_prediction(予測データ）とPassengerIdをデータフレームへ落とし込む\n",
    "my_solution = pd.DataFrame(my_prediction, Id, columns=['loan_status'])\n",
    "\n",
    "my_solution.replace({'FullyPaid': 0, 'ChargedOff': 1}, inplace=True)\n",
    "\n",
    "# my_tree_one.csvとして書き出し\n",
    "my_solution.to_csv(\"my_prediction_data.csv\", header=False)\n",
    "# to_csv header=False で行名を削除してcsv化"
   ]
  },
  {
   "cell_type": "markdown",
   "metadata": {},
   "source": [
    "- \"loan_amnt\", \"term\", \"interest_rate\", \"employment_length\" の4項目で 0.24929点"
   ]
  },
  {
   "cell_type": "markdown",
   "metadata": {},
   "source": [
    "↑の項目で学習方法をLigthGBLに変更して0.135点"
   ]
  },
  {
   "cell_type": "markdown",
   "metadata": {},
   "source": [
    "- \"loan_amnt\", \"term\", \"interest_rate\", \"employment_length\", 'credit_score' の5項目で 0.24759点"
   ]
  },
  {
   "cell_type": "markdown",
   "metadata": {},
   "source": [
    "- \"loan_amnt\", \"term\", \"interest_rate\", \"employment_length\", 'purpose' の5項目で 0.2510点"
   ]
  },
  {
   "cell_type": "markdown",
   "metadata": {},
   "source": [
    "- \"loan_amnt\", \"term\", \"interest_rate\", 'purpose' の4項目で 0.24931点"
   ]
  },
  {
   "cell_type": "markdown",
   "metadata": {},
   "source": [
    "- \"loan_amnt\", \"term\", \"interest_rate\", \"employment_length\", 'grade'の４項目で0.2639点"
   ]
  },
  {
   "cell_type": "markdown",
   "metadata": {},
   "source": [
    "- \"loan_amnt\", \"term\", \"interest_rate\", \"employment_length\", 'grade', 'debt_consolidation', 'credit_card', 'medical', \\\n",
    "                          'home_improvement', 'car', 'major_purchase', 'small_business', 'house', 'moving'の１４項目で0.2706点"
   ]
  },
  {
   "cell_type": "markdown",
   "metadata": {},
   "source": [
    "↑gradeを一つずつにわけGBLで学習0.1207267点"
   ]
  },
  {
   "cell_type": "markdown",
   "metadata": {},
   "source": [
    "- \"loan_amnt\", \"term\", \"interest_rate\", \"employment_length\", 'grade', 'debt_consolidation', 'credit_card', 'medical', \\\n",
    "                          'home_improvement', 'car', 'major_purchase', 'small_business', 'house', 'moving', 'other'の１５項目で0.2677点"
   ]
  },
  {
   "cell_type": "markdown",
   "metadata": {},
   "source": [
    "- categorical_feature = ['interest_rate', 'application_type', '3 years', '5 years', 'A1', 'A2', 'A3', 'A4', 'A5', 'B1', 'B2', 'B3', 'B4', 'B5', 'C1', 'C2', 'C3', 'C4', 'C5', 'D1', 'D2', 'D3', 'D4', 'D5', 'E1', 'E2', 'E3', 'E4', 'E5', 'F3', 'F5', 'car', 'credit_card', 'debt_consolidation', 'home_improvement', 'house', 'major_purchase', 'medical', 'other', 'small_business']でLigthGBL閾値を0.2にして0.329点"
   ]
  },
  {
   "cell_type": "code",
   "execution_count": null,
   "metadata": {},
   "outputs": [],
   "source": []
  }
 ],
 "metadata": {
  "kernelspec": {
   "display_name": "Python 3",
   "language": "python",
   "name": "python3"
  },
  "language_info": {
   "codemirror_mode": {
    "name": "ipython",
    "version": 3
   },
   "file_extension": ".py",
   "mimetype": "text/x-python",
   "name": "python",
   "nbconvert_exporter": "python",
   "pygments_lexer": "ipython3",
   "version": "3.7.3"
  }
 },
 "nbformat": 4,
 "nbformat_minor": 4
}
